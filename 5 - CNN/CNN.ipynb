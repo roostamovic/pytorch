{
 "cells": [
  {
   "cell_type": "code",
   "execution_count": 19,
   "metadata": {},
   "outputs": [],
   "source": [
    "def pseudocode(input_height, input_width, kernel_height, kernel_width, input_image, kernel):\n",
    "    output_height = input_height - kernel_height + 1\n",
    "    output_width = input_width - kernel_width + 1\n",
    "    output_image = np.zeros((output_height, output_width))\n",
    "    for i in range(0, output_height):\n",
    "        for j in range(0, output_width):\n",
    "            for ii in range(0, kernel_height):\n",
    "                for jj in range(0, kernel_width):\n",
    "                    output_image[i][j] += input_image[i+ii][j+jj] * kernel[ii][jj]\n",
    "    return output_image"
   ]
  },
  {
   "cell_type": "code",
   "execution_count": 20,
   "metadata": {},
   "outputs": [],
   "source": [
    "input_image = [[10,5,0,8], \n",
    "               [11,2,8,1], \n",
    "               [1, 3,4,0], \n",
    "               [8, 6,9,12]]\n",
    "kernel = [[1,0], \n",
    "          [2,1]]"
   ]
  },
  {
   "cell_type": "code",
   "execution_count": 21,
   "metadata": {},
   "outputs": [],
   "source": [
    "import numpy as np\n",
    "result = pseudocode(4, 4, 2, 2, input_image, kernel)"
   ]
  },
  {
   "cell_type": "code",
   "execution_count": 22,
   "metadata": {},
   "outputs": [
    {
     "data": {
      "text/plain": [
       "array([[34., 17., 17.],\n",
       "       [16., 12., 16.],\n",
       "       [23., 24., 34.]])"
      ]
     },
     "execution_count": 22,
     "metadata": {},
     "output_type": "execute_result"
    }
   ],
   "source": [
    "result"
   ]
  },
  {
   "cell_type": "code",
   "execution_count": null,
   "metadata": {},
   "outputs": [],
   "source": []
  }
 ],
 "metadata": {
  "kernelspec": {
   "display_name": "Python 3",
   "language": "python",
   "name": "python3"
  },
  "language_info": {
   "codemirror_mode": {
    "name": "ipython",
    "version": 3
   },
   "file_extension": ".py",
   "mimetype": "text/x-python",
   "name": "python",
   "nbconvert_exporter": "python",
   "pygments_lexer": "ipython3",
   "version": "3.8.5"
  }
 },
 "nbformat": 4,
 "nbformat_minor": 4
}

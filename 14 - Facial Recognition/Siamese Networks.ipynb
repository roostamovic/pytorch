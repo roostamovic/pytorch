{
 "cells": [
  {
   "cell_type": "code",
   "execution_count": 1,
   "metadata": {},
   "outputs": [],
   "source": [
    "import torch\n",
    "import torch.nn as nn\n",
    "import torch.nn.functional as F\n",
    "import torchvision\n",
    "import torchvision.transforms as transforms\n",
    "import numpy as np\n",
    "import matplotlib.pyplot as plt\n",
    "from sklearn.utils import shuffle\n",
    "from datetime import datetime\n",
    "from glob import glob\n",
    "from collections import Counter\n",
    "%matplotlib inline"
   ]
  },
  {
   "cell_type": "code",
   "execution_count": 2,
   "metadata": {},
   "outputs": [
    {
     "name": "stdout",
     "output_type": "stream",
     "text": [
      "2.5.0\n"
     ]
    }
   ],
   "source": [
    "# Useful image utility\n",
    "try:\n",
    "    %tensorflow_version 2.x \n",
    "except:\n",
    "    pass\n",
    "\n",
    "import tensorflow as tf\n",
    "print(tf.__version__)\n",
    "from keras.preprocessing import image"
   ]
  },
  {
   "cell_type": "code",
   "execution_count": null,
   "metadata": {},
   "outputs": [],
   "source": []
  },
  {
   "cell_type": "code",
   "execution_count": 3,
   "metadata": {},
   "outputs": [],
   "source": [
    "files = glob('yalefaces/subject*')"
   ]
  },
  {
   "cell_type": "code",
   "execution_count": 4,
   "metadata": {},
   "outputs": [],
   "source": [
    "# easier to randomize later\n",
    "np.random.shuffle(files)"
   ]
  },
  {
   "cell_type": "code",
   "execution_count": 5,
   "metadata": {},
   "outputs": [
    {
     "data": {
      "text/plain": [
       "166"
      ]
     },
     "execution_count": 5,
     "metadata": {},
     "output_type": "execute_result"
    }
   ],
   "source": [
    "# number of samples\n",
    "N = len(files)\n",
    "N"
   ]
  },
  {
   "cell_type": "code",
   "execution_count": 6,
   "metadata": {},
   "outputs": [],
   "source": [
    "H, W = 60, 80\n",
    "def load_img(filepath):\n",
    "    # load image and downsample\n",
    "    img = image.img_to_array(image.load_img(filepath, target_size=[H,W])).astype('uint8')\n",
    "    return img"
   ]
  },
  {
   "cell_type": "code",
   "execution_count": 7,
   "metadata": {},
   "outputs": [
    {
     "data": {
      "text/plain": [
       "<matplotlib.image.AxesImage at 0x2fa94a58640>"
      ]
     },
     "execution_count": 7,
     "metadata": {},
     "output_type": "execute_result"
    },
    {
     "data": {
      "image/png": "[encoded data removed]",
      "text/plain": [
       "<Figure size 432x288 with 1 Axes>"
      ]
     },
     "metadata": {
      "needs_background": "light"
     },
     "output_type": "display_data"
    }
   ],
   "source": [
    "# look at an image for fun\n",
    "img = load_img(np.random.choice(files))\n",
    "plt.imshow(img)"
   ]
  },
  {
   "cell_type": "code",
   "execution_count": 8,
   "metadata": {},
   "outputs": [
    {
     "data": {
      "text/plain": [
       "(60, 80, 3)"
      ]
     },
     "execution_count": 8,
     "metadata": {},
     "output_type": "execute_result"
    }
   ],
   "source": [
    "img.shape"
   ]
  },
  {
   "cell_type": "code",
   "execution_count": 9,
   "metadata": {},
   "outputs": [
    {
     "data": {
      "text/plain": [
       "255"
      ]
     },
     "execution_count": 9,
     "metadata": {},
     "output_type": "execute_result"
    }
   ],
   "source": [
    "img.max()"
   ]
  },
  {
   "cell_type": "code",
   "execution_count": 10,
   "metadata": {},
   "outputs": [],
   "source": [
    "def to_grayscale(img):\n",
    "    return img.mean(axis=-1)"
   ]
  },
  {
   "cell_type": "code",
   "execution_count": 11,
   "metadata": {},
   "outputs": [
    {
     "data": {
      "text/plain": [
       "(True, True)"
      ]
     },
     "execution_count": 11,
     "metadata": {},
     "output_type": "execute_result"
    }
   ],
   "source": [
    "np.all(img[:,:,0] == img[:,:,1]), np.all(img[:,:,0] == img[:,:,2])"
   ]
  },
  {
   "cell_type": "code",
   "execution_count": 12,
   "metadata": {},
   "outputs": [],
   "source": [
    "# load images as arrays\n",
    "shape = (N, H, W)\n",
    "images = np.zeros(shape)\n",
    "for i, f in enumerate(files):\n",
    "    img = to_grayscale(load_img(f)) / 255.\n",
    "    images[i] = img"
   ]
  },
  {
   "cell_type": "code",
   "execution_count": 13,
   "metadata": {},
   "outputs": [],
   "source": [
    "# make the labels\n",
    "# all the filenames are something like 'subject13.happy'\n",
    "labels = np.zeros(N)\n",
    "for i, f in enumerate(files):\n",
    "    filename = f.rsplit('\\\\', 1)[-1]\n",
    "    subject_num = filename.split('.', 1)[0]\n",
    "    \n",
    "    # subtract 1 since the filenames start from 1\n",
    "    idx = int(subject_num.replace('subject', '')) - 1\n",
    "    labels[i] = idx"
   ]
  },
  {
   "cell_type": "code",
   "execution_count": 14,
   "metadata": {},
   "outputs": [],
   "source": [
    "label_count = Counter(labels)"
   ]
  },
  {
   "cell_type": "code",
   "execution_count": 15,
   "metadata": {},
   "outputs": [
    {
     "data": {
      "text/plain": [
       "Counter({14.0: 11,\n",
       "         6.0: 11,\n",
       "         2.0: 11,\n",
       "         5.0: 11,\n",
       "         13.0: 11,\n",
       "         8.0: 11,\n",
       "         3.0: 11,\n",
       "         7.0: 11,\n",
       "         11.0: 11,\n",
       "         10.0: 11,\n",
       "         0.0: 12,\n",
       "         4.0: 11,\n",
       "         9.0: 11,\n",
       "         12.0: 11,\n",
       "         1.0: 11})"
      ]
     },
     "execution_count": 15,
     "metadata": {},
     "output_type": "execute_result"
    }
   ],
   "source": [
    "label_count"
   ]
  },
  {
   "cell_type": "code",
   "execution_count": 16,
   "metadata": {},
   "outputs": [],
   "source": [
    "# set of unique labels\n",
    "unique_labels = set(label_count.keys())"
   ]
  },
  {
   "cell_type": "code",
   "execution_count": 17,
   "metadata": {},
   "outputs": [],
   "source": [
    "# get the number of subjects\n",
    "n_subjects = len(label_count)"
   ]
  },
  {
   "cell_type": "code",
   "execution_count": 18,
   "metadata": {},
   "outputs": [],
   "source": [
    "# let's make it so 3 images for each subject are test data\n",
    "# number of test points is then\n",
    "n_test = 3 * n_subjects\n",
    "n_train = N - n_test"
   ]
  },
  {
   "cell_type": "code",
   "execution_count": 19,
   "metadata": {},
   "outputs": [],
   "source": [
    "# initialize arrays to hold train and test images\n",
    "train_images = np.zeros([n_train] + list(img.shape))\n",
    "train_labels = np.zeros(n_train)\n",
    "test_images = np.zeros([n_test] + list(img.shape))\n",
    "test_labels = np.zeros(n_test)"
   ]
  },
  {
   "cell_type": "code",
   "execution_count": 20,
   "metadata": {},
   "outputs": [],
   "source": [
    "count_so_far = {}\n",
    "train_idx = 0\n",
    "test_idx = 0\n",
    "for img, label in zip(images, labels):\n",
    "    # increment the count\n",
    "    count_so_far[label] = count_so_far.get(label, 0) + 1\n",
    "    \n",
    "    if count_so_far[label] > 3:\n",
    "        # we have already added 3 test images for this subject\n",
    "        # so add the rest to train\n",
    "        train_images[train_idx] = img\n",
    "        train_labels[train_idx] = label\n",
    "        train_idx += 1\n",
    "        \n",
    "    else:\n",
    "        # add the first 3 images to test\n",
    "        test_images[test_idx] = img\n",
    "        test_labels[test_idx] = label\n",
    "        test_idx += 1"
   ]
  },
  {
   "cell_type": "code",
   "execution_count": 21,
   "metadata": {},
   "outputs": [],
   "source": [
    "# create label2idx mapping for easy access\n",
    "train_label2idx = {}\n",
    "test_label2idx = {}\n",
    "\n",
    "for i, label in enumerate(train_labels):\n",
    "    if label not in train_label2idx:\n",
    "        train_label2idx[label] = [i]\n",
    "    else:\n",
    "        train_label2idx[label].append(i)\n",
    "\n",
    "for i, label in enumerate(test_labels):\n",
    "    if label not in test_label2idx:\n",
    "        test_label2idx[label] = [i]\n",
    "    else:\n",
    "        test_label2idx[label].append(i)"
   ]
  },
  {
   "cell_type": "code",
   "execution_count": 22,
   "metadata": {},
   "outputs": [],
   "source": [
    "# come up with all possible training sample indices\n",
    "train_positives = []\n",
    "train_negatives = []\n",
    "test_positives = []\n",
    "test_negatives = []\n",
    "\n",
    "for label, indices in train_label2idx.items():\n",
    "    # all indices that do NOT belong to this subject\n",
    "    other_indices = set(range(n_train)) - set(indices)\n",
    "    \n",
    "    for i, idx1 in enumerate(indices):\n",
    "        for idx2 in indices[i+1:]:\n",
    "            train_positives.append((idx1, idx2))\n",
    "            \n",
    "        for idx2 in other_indices:\n",
    "            train_negatives.append((idx1, idx2))\n",
    "    \n",
    "for label, indices in test_label2idx.items():\n",
    "    # all indices that do NOT belong to this subject\n",
    "    other_indices = set(range(n_test)) - set(indices)\n",
    "    \n",
    "    for i, idx1 in enumerate(indices):\n",
    "        for idx2 in indices[i+1:]:\n",
    "            test_positives.append((idx1, idx2))\n",
    "            \n",
    "        for idx2 in other_indices:\n",
    "            test_negatives.append((idx1, idx2))"
   ]
  },
  {
   "cell_type": "code",
   "execution_count": 23,
   "metadata": {},
   "outputs": [],
   "source": [
    "batch_size = 64\n",
    "def train_generator():\n",
    "    # for each batch, we will send 1 pair of each batch and the same number of non-matching pairs\n",
    "    n_batches = int(np.ceil(len(train_positives) / batch_size))\n",
    "    \n",
    "    while True:\n",
    "        np.random.shuffle(train_positives)\n",
    "        n_samples = batch_size * 2\n",
    "        shape = (n_samples, H, W)\n",
    "        x_batch_1 = np.zeros(shape)\n",
    "        x_batch_2 = np.zeros(shape)\n",
    "        y_batch = np.zeros(n_samples)\n",
    "        \n",
    "        for i in range(n_batches):\n",
    "            pos_batch_indices = train_positives[i * batch_size: (i+1) * batch_size]\n",
    "            \n",
    "            # fill up x_batch and y_batch\n",
    "            j = 0\n",
    "            for idx1, idx2 in pos_batch_indices:\n",
    "                x_batch_1[j] = train_images[idx1]\n",
    "                x_batch_2[j] = train_images[idx2]\n",
    "                y_batch[j] = 1  # match\n",
    "                j += 1\n",
    "            \n",
    "            # get negative samples\n",
    "            neg_indices = np.random.choice(len(train_negatives), size=len(pos_batch_indices), replace=False)\n",
    "            for neg in neg_indices:\n",
    "                idx1, idx2 = train_negatives[neg]\n",
    "                x_batch_1[j] = train_images[idx1]\n",
    "                x_batch_2[j] = train_images[idx2]\n",
    "                y_batch[j] = 0  # non-match\n",
    "                j += 1\n",
    "            \n",
    "            x1 = x_batch_1[:j]\n",
    "            x2 = x_batch_2[:j]\n",
    "            y = y_batch[:j]\n",
    "            \n",
    "            # reshape\n",
    "            x1 = x1.reshape(-1, 1, H, W)\n",
    "            x2 = x2.reshape(-1, 1, H, W)\n",
    "            \n",
    "            # convert to torch tensors\n",
    "            x1 = torch.from_numpy(x1).float()\n",
    "            x2 = torch.from_numpy(x2).float()\n",
    "            y = torch.from_numpy(y).float()\n",
    "            \n",
    "            yield [x1, x2], y"
   ]
  },
  {
   "cell_type": "code",
   "execution_count": 24,
   "metadata": {},
   "outputs": [],
   "source": [
    "# same thing as the train_generator except no shuffling and it uses the test set\n",
    "def test_generator():\n",
    "    # for each batch, we will send 1 pair of each batch and the same number of non-matching pairs\n",
    "    n_batches = int(np.ceil(len(test_positives) / batch_size))\n",
    "    \n",
    "    while True:\n",
    "        n_samples = batch_size * 2\n",
    "        shape = (n_samples, H, W)\n",
    "        x_batch_1 = np.zeros(shape)\n",
    "        x_batch_2 = np.zeros(shape)\n",
    "        y_batch = np.zeros(n_samples)\n",
    "        \n",
    "        for i in range(n_batches):\n",
    "            pos_batch_indices = test_positives[i * batch_size: (i+1) * batch_size]\n",
    "            \n",
    "            # fill up x_batch and y_batch\n",
    "            j = 0\n",
    "            for idx1, idx2 in pos_batch_indices:\n",
    "                x_batch_1[j] = test_images[idx1]\n",
    "                x_batch_2[j] = test_images[idx2]\n",
    "                y_batch[j] = 1  # match\n",
    "                j += 1\n",
    "            \n",
    "            # get negative samples\n",
    "            neg_indices = np.random.choice(len(test_negatives), size=len(pos_batch_indices), replace=False)\n",
    "            for neg in neg_indices:\n",
    "                idx1, idx2 = test_negatives[neg]\n",
    "                x_batch_1[j] = test_images[idx1]\n",
    "                x_batch_2[j] = test_images[idx2]\n",
    "                y_batch[j] = 0  # non-match\n",
    "                j += 1\n",
    "            \n",
    "            x1 = x_batch_1[:j]\n",
    "            x2 = x_batch_2[:j]\n",
    "            y = y_batch[:j]\n",
    "            \n",
    "            # reshape\n",
    "            x1 = x1.reshape(-1, 1, H, W)\n",
    "            x2 = x2.reshape(-1, 1, H, W)\n",
    "            \n",
    "            # convert to torch tensors\n",
    "            x1 = torch.from_numpy(x1).float()\n",
    "            x2 = torch.from_numpy(x2).float()\n",
    "            y = torch.from_numpy(y).float()\n",
    "            \n",
    "            yield [x1, x2], y"
   ]
  },
  {
   "cell_type": "code",
   "execution_count": 25,
   "metadata": {},
   "outputs": [],
   "source": [
    "# build the model\n",
    "class SiameseNN(nn.Module):\n",
    "    def __init__(self, feature_dim):\n",
    "        super(SiameseNN, self).__init__()\n",
    "        \n",
    "        # define CNN featurizer\n",
    "        self.cnn = nn.Sequential(\n",
    "            nn.Conv2d(1, 32, kernel_size=3),\n",
    "            nn.BatchNorm2d(32),\n",
    "            nn.ReLU(),\n",
    "            nn.MaxPool2d(2),\n",
    "            nn.Conv2d(32, 64, kernel_size=3),\n",
    "            nn.BatchNorm2d(64),\n",
    "            nn.ReLU(),\n",
    "            nn.MaxPool2d(2),\n",
    "            nn.Flatten(),\n",
    "            nn.Linear(13*18*64, 128),  # 60>29>13, 80>39>18\n",
    "            nn.ReLU(),\n",
    "            nn.Linear(128, feature_dim)\n",
    "        )\n",
    "    \n",
    "    def forward(self, im1, im2):\n",
    "        feat1 = self.cnn(im1)\n",
    "        feat2 = self.cnn(im2)\n",
    "        \n",
    "        # Euclidian distance between feature 1 and feature 2\n",
    "        return torch.norm(feat1 - feat2, dim=-1)"
   ]
  },
  {
   "cell_type": "code",
   "execution_count": 26,
   "metadata": {},
   "outputs": [],
   "source": [
    "model = SiameseNN(50)"
   ]
  },
  {
   "cell_type": "code",
   "execution_count": 27,
   "metadata": {},
   "outputs": [],
   "source": [
    "device = torch.device('cpu')"
   ]
  },
  {
   "cell_type": "code",
   "execution_count": 28,
   "metadata": {},
   "outputs": [
    {
     "data": {
      "text/plain": [
       "SiameseNN(\n",
       "  (cnn): Sequential(\n",
       "    (0): Conv2d(1, 32, kernel_size=(3, 3), stride=(1, 1))\n",
       "    (1): BatchNorm2d(32, eps=1e-05, momentum=0.1, affine=True, track_running_stats=True)\n",
       "    (2): ReLU()\n",
       "    (3): MaxPool2d(kernel_size=2, stride=2, padding=0, dilation=1, ceil_mode=False)\n",
       "    (4): Conv2d(32, 64, kernel_size=(3, 3), stride=(1, 1))\n",
       "    (5): BatchNorm2d(64, eps=1e-05, momentum=0.1, affine=True, track_running_stats=True)\n",
       "    (6): ReLU()\n",
       "    (7): MaxPool2d(kernel_size=2, stride=2, padding=0, dilation=1, ceil_mode=False)\n",
       "    (8): Flatten(start_dim=1, end_dim=-1)\n",
       "    (9): Linear(in_features=14976, out_features=128, bias=True)\n",
       "    (10): ReLU()\n",
       "    (11): Linear(in_features=128, out_features=50, bias=True)\n",
       "  )\n",
       ")"
      ]
     },
     "execution_count": 28,
     "metadata": {},
     "output_type": "execute_result"
    }
   ],
   "source": [
    "model.to(device)"
   ]
  },
  {
   "cell_type": "code",
   "execution_count": 29,
   "metadata": {},
   "outputs": [],
   "source": [
    "# loss function for Siamese Network\n",
    "def contrastive_loss(y, t):\n",
    "    nonmatch = F.relu(1 - y)  # max(margin - y, 0)\n",
    "    return torch.mean(t * y**2 + (1-t) * nonmatch**2)"
   ]
  },
  {
   "cell_type": "code",
   "execution_count": 30,
   "metadata": {},
   "outputs": [],
   "source": [
    "# Optimizer\n",
    "optimizer = torch.optim.Adam(model.parameters())"
   ]
  },
  {
   "cell_type": "code",
   "execution_count": 31,
   "metadata": {},
   "outputs": [],
   "source": [
    "# A function to encapsulate the training loop\n",
    "def batch_gd(model, criterion, optimizer, train_gen, test_gen, train_steps_per_epoch, test_steps_per_epoch, epochs):\n",
    "    train_losses = np.zeros(epochs)\n",
    "    test_losses = np.zeros(epochs)\n",
    "    \n",
    "    for i in range(epochs):\n",
    "        t0 = datetime.now()\n",
    "        train_loss = []\n",
    "        steps = 0\n",
    "        for (x1, x2), targets in train_gen:\n",
    "            # move data to the GPU\n",
    "            x1, x2, targets = x1.to(device), x2.to(device), targets.to(device)\n",
    "            \n",
    "            # zero the parameter gradients\n",
    "            optimizer.zero_grad()\n",
    "            \n",
    "            # forward pass\n",
    "            outputs = model(x1, x2)\n",
    "            loss = criterion(outputs, targets)\n",
    "            \n",
    "            # backward and optimize\n",
    "            loss.backward()\n",
    "            optimizer.step()\n",
    "            \n",
    "            train_loss.append(loss.item())\n",
    "            \n",
    "            # Update the steps\n",
    "            steps += 1\n",
    "            if steps >= train_steps_per_epoch:\n",
    "                break\n",
    "            \n",
    "        # Get train loss and test loss\n",
    "        train_loss = np.mean(train_losses)  # a little misleading\n",
    "        \n",
    "#*********************************************************************#        \n",
    "        \n",
    "        test_loss = []\n",
    "        steps = 0\n",
    "        for (x1, x2), targets in test_gen:\n",
    "            # move data to the GPU\n",
    "            x1, x2, targets = x1.to(device), x2.to(device), targets.to(device)\n",
    "            \n",
    "            # forward pass\n",
    "            outputs = model(x1, x2)\n",
    "            loss = criterion(outputs, targets)\n",
    "            \n",
    "            test_loss.append(loss.item())\n",
    "            \n",
    "            # Update the steps\n",
    "            steps += 1\n",
    "            if steps >= test_steps_per_epoch:\n",
    "                break\n",
    "            \n",
    "        # Get train loss and test loss\n",
    "        test_loss = np.mean(test_losses)  # a little misleading\n",
    "        \n",
    "        # Save losses\n",
    "        train_losses[i] = train_loss\n",
    "        test_losses[i] = test_loss\n",
    "        \n",
    "        dt = datetime.now() - t0\n",
    "        print(f'Epoch {i+1}/{epochs}, Train Loss: {train_loss:.4f}, Test Loss: {test_loss:.4f}, Duration: {dt}')\n",
    "        \n",
    "    return train_losses, test_losses"
   ]
  },
  {
   "cell_type": "code",
   "execution_count": 32,
   "metadata": {},
   "outputs": [
    {
     "name": "stdout",
     "output_type": "stream",
     "text": [
      "Epoch 1/20, Train Loss: 0.0000, Test Loss: 0.0000, Duration: 0:00:14.633539\n",
      "Epoch 2/20, Train Loss: 0.0000, Test Loss: 0.0000, Duration: 0:00:16.229728\n",
      "Epoch 3/20, Train Loss: 0.0000, Test Loss: 0.0000, Duration: 0:00:13.643003\n",
      "Epoch 4/20, Train Loss: 0.0000, Test Loss: 0.0000, Duration: 0:00:13.652852\n",
      "Epoch 5/20, Train Loss: 0.0000, Test Loss: 0.0000, Duration: 0:00:13.553025\n",
      "Epoch 6/20, Train Loss: 0.0000, Test Loss: 0.0000, Duration: 0:00:13.916882\n",
      "Epoch 7/20, Train Loss: 0.0000, Test Loss: 0.0000, Duration: 0:00:14.426839\n",
      "Epoch 8/20, Train Loss: 0.0000, Test Loss: 0.0000, Duration: 0:00:15.516052\n",
      "Epoch 9/20, Train Loss: 0.0000, Test Loss: 0.0000, Duration: 0:00:16.374274\n",
      "Epoch 10/20, Train Loss: 0.0000, Test Loss: 0.0000, Duration: 0:00:16.278016\n",
      "Epoch 11/20, Train Loss: 0.0000, Test Loss: 0.0000, Duration: 0:00:14.057174\n",
      "Epoch 12/20, Train Loss: 0.0000, Test Loss: 0.0000, Duration: 0:00:15.397862\n",
      "Epoch 13/20, Train Loss: 0.0000, Test Loss: 0.0000, Duration: 0:00:15.576720\n",
      "Epoch 14/20, Train Loss: 0.0000, Test Loss: 0.0000, Duration: 0:00:14.359437\n",
      "Epoch 15/20, Train Loss: 0.0000, Test Loss: 0.0000, Duration: 0:00:14.094241\n",
      "Epoch 16/20, Train Loss: 0.0000, Test Loss: 0.0000, Duration: 0:00:14.084675\n",
      "Epoch 17/20, Train Loss: 0.0000, Test Loss: 0.0000, Duration: 0:00:14.167829\n",
      "Epoch 18/20, Train Loss: 0.0000, Test Loss: 0.0000, Duration: 0:00:13.103973\n",
      "Epoch 19/20, Train Loss: 0.0000, Test Loss: 0.0000, Duration: 0:00:12.750536\n",
      "Epoch 20/20, Train Loss: 0.0000, Test Loss: 0.0000, Duration: 0:00:12.501776\n"
     ]
    }
   ],
   "source": [
    "train_steps = int(np.ceil(len(train_positives) / batch_size))\n",
    "test_steps = int(np.ceil(len(test_positives) / batch_size))\n",
    "\n",
    "train_losses, test_losses = batch_gd(model, contrastive_loss, optimizer, train_generator(), test_generator(), train_steps, test_steps, epochs=20)"
   ]
  },
  {
   "cell_type": "code",
   "execution_count": 33,
   "metadata": {},
   "outputs": [
    {
     "data": {
      "image/png": "[encoded data removed]",
      "text/plain": [
       "<Figure size 432x288 with 1 Axes>"
      ]
     },
     "metadata": {
      "needs_background": "light"
     },
     "output_type": "display_data"
    }
   ],
   "source": [
    "# Plot the train loss and test loss per iteration\n",
    "plt.plot(train_losses, label='train loss')\n",
    "plt.plot(test_losses, label='test loss')\n",
    "plt.legend()\n",
    "plt.show()"
   ]
  },
  {
   "cell_type": "code",
   "execution_count": 34,
   "metadata": {},
   "outputs": [
    {
     "data": {
      "text/plain": [
       "SiameseNN(\n",
       "  (cnn): Sequential(\n",
       "    (0): Conv2d(1, 32, kernel_size=(3, 3), stride=(1, 1))\n",
       "    (1): BatchNorm2d(32, eps=1e-05, momentum=0.1, affine=True, track_running_stats=True)\n",
       "    (2): ReLU()\n",
       "    (3): MaxPool2d(kernel_size=2, stride=2, padding=0, dilation=1, ceil_mode=False)\n",
       "    (4): Conv2d(32, 64, kernel_size=(3, 3), stride=(1, 1))\n",
       "    (5): BatchNorm2d(64, eps=1e-05, momentum=0.1, affine=True, track_running_stats=True)\n",
       "    (6): ReLU()\n",
       "    (7): MaxPool2d(kernel_size=2, stride=2, padding=0, dilation=1, ceil_mode=False)\n",
       "    (8): Flatten(start_dim=1, end_dim=-1)\n",
       "    (9): Linear(in_features=14976, out_features=128, bias=True)\n",
       "    (10): ReLU()\n",
       "    (11): Linear(in_features=128, out_features=50, bias=True)\n",
       "  )\n",
       ")"
      ]
     },
     "execution_count": 34,
     "metadata": {},
     "output_type": "execute_result"
    }
   ],
   "source": [
    "model.eval()"
   ]
  },
  {
   "cell_type": "code",
   "execution_count": 35,
   "metadata": {},
   "outputs": [],
   "source": [
    "# Convenience function to make predictions\n",
    "def predict(x1, x2):\n",
    "    x1 = torch.from_numpy(x1).float().to(device)\n",
    "    x2 = torch.from_numpy(x2).float().to(device)\n",
    "    with torch.no_grad():\n",
    "        dist = model(x1, x2).cpu().numpy()\n",
    "        return dist.flatten()"
   ]
  },
  {
   "cell_type": "code",
   "execution_count": 41,
   "metadata": {},
   "outputs": [],
   "source": [
    "# calculate accuracy before training\n",
    "# since the dataset is imbalanced, we will report tp, tn, fp, fn\n",
    "def get_train_accuracy(threshold=0.85):\n",
    "    positive_distances = []\n",
    "    negative_distances = []\n",
    "    \n",
    "    tp = 0\n",
    "    tn = 0\n",
    "    fp = 0\n",
    "    fn = 0\n",
    "    \n",
    "    batch_size = 64\n",
    "    x_batch_1 = np.zeros((batch_size, 1, H, W))\n",
    "    x_batch_2 = np.zeros((batch_size, 1, H, W))\n",
    "    n_batches = int(np.ceil(len(train_positives) / batch_size))\n",
    "    for i in range(n_batches):\n",
    "        print(f'positive batch: {i+1}/{n_batches}')\n",
    "        pos_batch_indices = train_positives[i*batch_size: (i+1)*batch_size]\n",
    "        \n",
    "        # fill up x_batch and y_batch\n",
    "        j = 0\n",
    "        for idx1, idx2 in pos_batch_indices:\n",
    "            x_batch_1[j,0] = train_images[idx1]\n",
    "            x_batch_2[j,0] = train_images[idx2]\n",
    "            j += 1\n",
    "            \n",
    "        x1 = x_batch_1[:j]\n",
    "        x2 = x_batch_2[:j]\n",
    "        distances = predict(x1, x2)\n",
    "        positive_distances += distances.tolist()\n",
    "        \n",
    "        # update tp, tn, fp, fn\n",
    "        tp += (distances < threshold).sum()\n",
    "        fn += (distances > threshold).sum()\n",
    "#    #    #    #    #    #    #    #    #    #    #    #    #    #    #    #\n",
    "    n_batches = int(np.ceil(len(train_positives) / batch_size))\n",
    "    for i in range(n_batches):\n",
    "        print(f'negative batch: {i+1}/{n_batches}')\n",
    "        neg_batch_indices = train_positives[i*batch_size: (i+1)*batch_size]\n",
    "        \n",
    "        # fill up x_batch and y_batch\n",
    "        j = 0\n",
    "        for idx1, idx2 in neg_batch_indices:\n",
    "            x_batch_1[j,0] = train_images[idx1]\n",
    "            x_batch_2[j,0] = train_images[idx2]\n",
    "            j += 1\n",
    "        \n",
    "        x1 = x_batch_1[:j]\n",
    "        x2 = x_batch_2[:j]\n",
    "        distances = predict(x1, x2)\n",
    "        negative_distances += distances.tolist()\n",
    "        \n",
    "        # update tp, tn, fp, fn\n",
    "        fp += (distances < threshold).sum()\n",
    "        tn += (distances > threshold).sum()\n",
    "    \n",
    "    tpr = tp / (tp + fn)\n",
    "    tnr = tn / (tn + fp)\n",
    "    print(f'sensitivity (tpr): {tpr}, specificity (tnr): {tnr}')\n",
    "    \n",
    "    plt.hist(negative_distances, bins=20, density=True, label='negative distances')\n",
    "    plt.hist(positive_distances, bins=20, density=True, label='positive distances')\n",
    "    plt.legend()"
   ]
  },
  {
   "cell_type": "code",
   "execution_count": 42,
   "metadata": {},
   "outputs": [],
   "source": [
    "# calculate accuracy before training\n",
    "# since the dataset is imbalanced, we will report tp, tn, fp, fn\n",
    "def get_test_accuracy(threshold=0.85):\n",
    "    positive_distances = []\n",
    "    negative_distances = []\n",
    "    \n",
    "    tp = 0\n",
    "    tn = 0\n",
    "    fp = 0\n",
    "    fn = 0\n",
    "    \n",
    "    batch_size = 64\n",
    "    x_batch_1 = np.zeros((batch_size, 1, H, W))\n",
    "    x_batch_2 = np.zeros((batch_size, 1, H, W))\n",
    "    n_batches = int(np.ceil(len(test_positives) / batch_size))\n",
    "    for i in range(n_batches):\n",
    "        print(f'positive batch: {i+1}/{n_batches}')\n",
    "        pos_batch_indices = test_positives[i*batch_size: (i+1)*batch_size]\n",
    "        \n",
    "        # fill up x_batch and y_batch\n",
    "        j = 0\n",
    "        for idx1, idx2 in pos_batch_indices:\n",
    "            x_batch_1[j,0] = test_images[idx1]\n",
    "            x_batch_2[j,0] = test_images[idx2]\n",
    "            j += 1\n",
    "            \n",
    "        x1 = x_batch_1[:j]\n",
    "        x2 = x_batch_2[:j]\n",
    "        distances = predict(x1, x2)\n",
    "        positive_distances += distances.tolist()\n",
    "        \n",
    "        # update tp, tn, fp, fn\n",
    "        tp += (distances < threshold).sum()\n",
    "        fn += (distances > threshold).sum()\n",
    "#    #    #    #    #    #    #    #    #    #    #    #    #    #    #    #\n",
    "    n_batches = int(np.ceil(len(test_positives) / batch_size))\n",
    "    for i in range(n_batches):\n",
    "        print(f'negative batch: {i+1}/{n_batches}')\n",
    "        neg_batch_indices = test_positives[i*batch_size: (i+1)*batch_size]\n",
    "        \n",
    "        # fill up x_batch and y_batch\n",
    "        j = 0\n",
    "        for idx1, idx2 in neg_batch_indices:\n",
    "            x_batch_1[j,0] = test_images[idx1]\n",
    "            x_batch_2[j,0] = test_images[idx2]\n",
    "            j += 1\n",
    "        \n",
    "        x1 = x_batch_1[:j]\n",
    "        x2 = x_batch_2[:j]\n",
    "        distances = predict(x1, x2)\n",
    "        negative_distances += distances.tolist()\n",
    "        \n",
    "        # update tp, tn, fp, fn\n",
    "        fp += (distances < threshold).sum()\n",
    "        tn += (distances > threshold).sum()\n",
    "    \n",
    "    tpr = tp / (tp + fn)\n",
    "    tnr = tn / (tn + fp)\n",
    "    print(f'sensitivity (tpr): {tpr}, specificity (tnr): {tnr}')\n",
    "    \n",
    "    plt.hist(negative_distances, bins=20, density=True, label='negative distances')\n",
    "    plt.hist(positive_distances, bins=20, density=True, label='positive distances')\n",
    "    plt.legend()"
   ]
  },
  {
   "cell_type": "code",
   "execution_count": 43,
   "metadata": {},
   "outputs": [
    {
     "name": "stdout",
     "output_type": "stream",
     "text": [
      "positive batch: 1/7\n",
      "positive batch: 2/7\n",
      "positive batch: 3/7\n",
      "positive batch: 4/7\n",
      "positive batch: 5/7\n",
      "positive batch: 6/7\n",
      "positive batch: 7/7\n",
      "negative batch: 1/7\n",
      "negative batch: 2/7\n",
      "negative batch: 3/7\n",
      "negative batch: 4/7\n",
      "negative batch: 5/7\n",
      "negative batch: 6/7\n",
      "negative batch: 7/7\n",
      "sensitivity (tpr): 1.0, specificity (tnr): 0.0\n"
     ]
    },
    {
     "data": {
      "image/png": "[encoded data removed]",
      "text/plain": [
       "<Figure size 432x288 with 1 Axes>"
      ]
     },
     "metadata": {
      "needs_background": "light"
     },
     "output_type": "display_data"
    }
   ],
   "source": [
    "get_train_accuracy(0.65)"
   ]
  },
  {
   "cell_type": "code",
   "execution_count": 44,
   "metadata": {},
   "outputs": [
    {
     "name": "stdout",
     "output_type": "stream",
     "text": [
      "positive batch: 1/1\n",
      "negative batch: 1/1\n",
      "sensitivity (tpr): 0.9333333333333333, specificity (tnr): 0.06666666666666667\n"
     ]
    },
    {
     "data": {
      "image/png": "[encoded data removed]",
      "text/plain": [
       "<Figure size 432x288 with 1 Axes>"
      ]
     },
     "metadata": {
      "needs_background": "light"
     },
     "output_type": "display_data"
    }
   ],
   "source": [
    "get_test_accuracy(0.65)"
   ]
  },
  {
   "cell_type": "code",
   "execution_count": null,
   "metadata": {},
   "outputs": [],
   "source": []
  }
 ],
 "metadata": {
  "kernelspec": {
   "display_name": "Python 3",
   "language": "python",
   "name": "python3"
  },
  "language_info": {
   "codemirror_mode": {
    "name": "ipython",
    "version": 3
   },
   "file_extension": ".py",
   "mimetype": "text/x-python",
   "name": "python",
   "nbconvert_exporter": "python",
   "pygments_lexer": "ipython3",
   "version": "3.8.5"
  }
 },
 "nbformat": 4,
 "nbformat_minor": 4
}

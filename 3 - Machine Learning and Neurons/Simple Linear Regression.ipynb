{
 "cells": [
  {
   "cell_type": "code",
   "execution_count": 1,
   "metadata": {},
   "outputs": [],
   "source": [
    "import torch\n",
    "import torch.nn as nn\n",
    "import numpy as np\n",
    "import matplotlib.pyplot as plt\n",
    "%matplotlib inline"
   ]
  },
  {
   "cell_type": "code",
   "execution_count": 2,
   "metadata": {},
   "outputs": [],
   "source": [
    "# we will generate 20 data points\n",
    "N = 20"
   ]
  },
  {
   "cell_type": "code",
   "execution_count": 3,
   "metadata": {},
   "outputs": [],
   "source": [
    "# random data on the x-axis in range (-5, +5)\n",
    "X = np.random.random(N)*10 - 5"
   ]
  },
  {
   "cell_type": "code",
   "execution_count": 4,
   "metadata": {},
   "outputs": [],
   "source": [
    "# a line plus some noise\n",
    "Y = 0.5 * X - 1 + np.random.random(N)"
   ]
  },
  {
   "cell_type": "code",
   "execution_count": 5,
   "metadata": {},
   "outputs": [],
   "source": [
    "# Plot the data"
   ]
  },
  {
   "cell_type": "code",
   "execution_count": 7,
   "metadata": {},
   "outputs": [
    {
     "data": {
      "text/plain": [
       "<matplotlib.collections.PathCollection at 0x2797410df10>"
      ]
     },
     "execution_count": 7,
     "metadata": {},
     "output_type": "execute_result"
    },
    {
     "data": {
      "image/png": "[encoded data removed]",
      "text/plain": [
       "<Figure size 432x288 with 1 Axes>"
      ]
     },
     "metadata": {},
     "output_type": "display_data"
    }
   ],
   "source": [
    "import seaborn as sns\n",
    "sns.set_style('whitegrid')\n",
    "plt.scatter(X, Y)"
   ]
  },
  {
   "cell_type": "code",
   "execution_count": 8,
   "metadata": {},
   "outputs": [],
   "source": [
    "# Create the Linear Regression model\n",
    "model = nn.Linear(1, 1)"
   ]
  },
  {
   "cell_type": "code",
   "execution_count": 9,
   "metadata": {},
   "outputs": [],
   "source": [
    "# Loss and Optimizer\n",
    "criterion = nn.MSELoss()\n",
    "optimizer = torch.optim.SGD(model.parameters(), lr=0.1)"
   ]
  },
  {
   "cell_type": "code",
   "execution_count": 10,
   "metadata": {},
   "outputs": [],
   "source": [
    "# Reshaping the Data\n",
    "X = X.reshape(N, 1)\n",
    "Y = Y.reshape(N, 1)"
   ]
  },
  {
   "cell_type": "code",
   "execution_count": 12,
   "metadata": {},
   "outputs": [],
   "source": [
    "# PyTorch uses float32 by default\n",
    "# NumPy uses float64 by default\n",
    "# So we need to change datatype of our Data in order to transform it into tensors\n",
    "inputs = torch.from_numpy(X.astype(np.float32))\n",
    "targets = torch.from_numpy(Y.astype(np.float32))"
   ]
  },
  {
   "cell_type": "code",
   "execution_count": 15,
   "metadata": {},
   "outputs": [
    {
     "data": {
      "text/plain": [
       "torch.Tensor"
      ]
     },
     "execution_count": 15,
     "metadata": {},
     "output_type": "execute_result"
    }
   ],
   "source": [
    "type(inputs)"
   ]
  },
  {
   "cell_type": "code",
   "execution_count": 16,
   "metadata": {},
   "outputs": [
    {
     "name": "stdout",
     "output_type": "stream",
     "text": [
      "Epoch 1/30,  Loss: 0.0772\n",
      "Epoch 2/30,  Loss: 0.0727\n",
      "Epoch 3/30,  Loss: 0.0714\n",
      "Epoch 4/30,  Loss: 0.0705\n",
      "Epoch 5/30,  Loss: 0.0700\n",
      "Epoch 6/30,  Loss: 0.0697\n",
      "Epoch 7/30,  Loss: 0.0695\n",
      "Epoch 8/30,  Loss: 0.0693\n",
      "Epoch 9/30,  Loss: 0.0692\n",
      "Epoch 10/30,  Loss: 0.0692\n",
      "Epoch 11/30,  Loss: 0.0692\n",
      "Epoch 12/30,  Loss: 0.0691\n",
      "Epoch 13/30,  Loss: 0.0691\n",
      "Epoch 14/30,  Loss: 0.0691\n",
      "Epoch 15/30,  Loss: 0.0691\n",
      "Epoch 16/30,  Loss: 0.0691\n",
      "Epoch 17/30,  Loss: 0.0691\n",
      "Epoch 18/30,  Loss: 0.0691\n",
      "Epoch 19/30,  Loss: 0.0691\n",
      "Epoch 20/30,  Loss: 0.0691\n",
      "Epoch 21/30,  Loss: 0.0691\n",
      "Epoch 22/30,  Loss: 0.0691\n",
      "Epoch 23/30,  Loss: 0.0691\n",
      "Epoch 24/30,  Loss: 0.0691\n",
      "Epoch 25/30,  Loss: 0.0691\n",
      "Epoch 26/30,  Loss: 0.0691\n",
      "Epoch 27/30,  Loss: 0.0691\n",
      "Epoch 28/30,  Loss: 0.0691\n",
      "Epoch 29/30,  Loss: 0.0691\n",
      "Epoch 30/30,  Loss: 0.0691\n"
     ]
    }
   ],
   "source": [
    "# TRAIN THE MODEL\n",
    "n_epochs = 30\n",
    "losses = []\n",
    "for i in range(n_epochs):\n",
    "    # zero the parameter gradients\n",
    "    optimizer.zero_grad()\n",
    "    \n",
    "    # Forward pass\n",
    "    outputs = model(inputs)\n",
    "    loss = criterion(outputs, targets)\n",
    "    \n",
    "    # keep the loss to plot it later\n",
    "    losses.append(loss.item())\n",
    "    \n",
    "    # Backward and Optimize\n",
    "    loss.backward()\n",
    "    optimizer.step()\n",
    "    \n",
    "    print(f'Epoch {i+1}/{n_epochs},  Loss: {loss.item():.4f}')"
   ]
  },
  {
   "cell_type": "code",
   "execution_count": 18,
   "metadata": {},
   "outputs": [
    {
     "data": {
      "text/plain": [
       "[<matplotlib.lines.Line2D at 0x27974895370>]"
      ]
     },
     "execution_count": 18,
     "metadata": {},
     "output_type": "execute_result"
    },
    {
     "data": {
      "image/png": "[encoded data removed]",
      "text/plain": [
       "<Figure size 432x288 with 1 Axes>"
      ]
     },
     "metadata": {},
     "output_type": "display_data"
    }
   ],
   "source": [
    "# Plot the Loss per iteration\n",
    "plt.plot(losses)"
   ]
  },
  {
   "cell_type": "code",
   "execution_count": 19,
   "metadata": {},
   "outputs": [
    {
     "data": {
      "text/plain": [
       "<matplotlib.legend.Legend at 0x27975062a90>"
      ]
     },
     "execution_count": 19,
     "metadata": {},
     "output_type": "execute_result"
    },
    {
     "data": {
      "image/png": "[encoded data removed]",
      "text/plain": [
       "<Figure size 432x288 with 1 Axes>"
      ]
     },
     "metadata": {},
     "output_type": "display_data"
    }
   ],
   "source": [
    "# Plot the graph\n",
    "predicted = model(inputs).detach().numpy()   # this converts torch tensor into numpy array, since we can't plot torch tensor in matplotlib\n",
    "plt.scatter(X, Y, label='Original Data', color='red')\n",
    "plt.plot(X, predicted, label='Fitted Line')\n",
    "plt.legend()"
   ]
  },
  {
   "cell_type": "code",
   "execution_count": 23,
   "metadata": {},
   "outputs": [
    {
     "name": "stdout",
     "output_type": "stream",
     "text": [
      "[[-1.6958125 ]\n",
      " [-2.0473468 ]\n",
      " [ 0.7555501 ]\n",
      " [-1.562564  ]\n",
      " [-2.1115017 ]\n",
      " [ 0.29105717]\n",
      " [-0.11879957]\n",
      " [ 0.50191826]\n",
      " [ 1.2062552 ]\n",
      " [-1.0661443 ]\n",
      " [ 0.6507812 ]\n",
      " [-0.8435012 ]\n",
      " [-1.4173055 ]\n",
      " [-0.34952757]\n",
      " [-1.5798986 ]\n",
      " [-0.88385475]\n",
      " [-2.8812802 ]\n",
      " [ 0.31084198]\n",
      " [ 0.30095702]\n",
      " [-0.66992617]]\n"
     ]
    },
    {
     "data": {
      "image/png": "[encoded data removed]",
      "text/plain": [
       "<Figure size 432x288 with 1 Axes>"
      ]
     },
     "metadata": {},
     "output_type": "display_data"
    }
   ],
   "source": [
    "# Another way\n",
    "with torch.no_grad():\n",
    "    out = model(inputs).numpy()\n",
    "plt.scatter(Y, out)\n",
    "print(out)"
   ]
  },
  {
   "cell_type": "code",
   "execution_count": 24,
   "metadata": {},
   "outputs": [
    {
     "name": "stdout",
     "output_type": "stream",
     "text": [
      "[[0.4665253]] [-0.6909886]\n"
     ]
    }
   ],
   "source": [
    "# Important !\n",
    "# In order to test the efficiency of our model, synthetic data is useful\n",
    "# Why?\n",
    "# Because *** we know the answer ***\n",
    "# True values of (w, b) are (0.5, -1)\n",
    "w = model.weight.data.numpy()\n",
    "b = model.bias.data.numpy()\n",
    "print(w, b)"
   ]
  },
  {
   "cell_type": "code",
   "execution_count": null,
   "metadata": {},
   "outputs": [],
   "source": [
    "\n"
   ]
  }
 ],
 "metadata": {
  "kernelspec": {
   "display_name": "Python 3",
   "language": "python",
   "name": "python3"
  },
  "language_info": {
   "codemirror_mode": {
    "name": "ipython",
    "version": 3
   },
   "file_extension": ".py",
   "mimetype": "text/x-python",
   "name": "python",
   "nbconvert_exporter": "python",
   "pygments_lexer": "ipython3",
   "version": "3.8.5"
  }
 },
 "nbformat": 4,
 "nbformat_minor": 4
}

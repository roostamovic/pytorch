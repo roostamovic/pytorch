{
 "cells": [
  {
   "cell_type": "code",
   "execution_count": 1,
   "metadata": {},
   "outputs": [],
   "source": [
    "import torch\n",
    "import torch.nn as nn\n",
    "import numpy as np\n",
    "import pandas as pd\n",
    "import seaborn as sns\n",
    "import matplotlib.pyplot as plt\n",
    "%matplotlib inline"
   ]
  },
  {
   "cell_type": "code",
   "execution_count": 2,
   "metadata": {},
   "outputs": [],
   "source": [
    "sns.set_style('whitegrid')"
   ]
  },
  {
   "cell_type": "code",
   "execution_count": 3,
   "metadata": {},
   "outputs": [],
   "source": [
    "from sklearn.datasets import load_breast_cancer"
   ]
  },
  {
   "cell_type": "code",
   "execution_count": 4,
   "metadata": {},
   "outputs": [],
   "source": [
    "data = load_breast_cancer()"
   ]
  },
  {
   "cell_type": "code",
   "execution_count": 5,
   "metadata": {},
   "outputs": [],
   "source": [
    "from sklearn.model_selection import train_test_split"
   ]
  },
  {
   "cell_type": "code",
   "execution_count": 6,
   "metadata": {},
   "outputs": [],
   "source": [
    "X_train, X_test, y_train, y_test = train_test_split(data.data, data.target, test_size=0.33, random_state=0)"
   ]
  },
  {
   "cell_type": "code",
   "execution_count": 7,
   "metadata": {},
   "outputs": [],
   "source": [
    "N, D = X_train.shape"
   ]
  },
  {
   "cell_type": "code",
   "execution_count": 8,
   "metadata": {},
   "outputs": [],
   "source": [
    "# Scale the data\n",
    "from sklearn.preprocessing import StandardScaler"
   ]
  },
  {
   "cell_type": "code",
   "execution_count": 9,
   "metadata": {},
   "outputs": [],
   "source": [
    "scaler = StandardScaler()"
   ]
  },
  {
   "cell_type": "code",
   "execution_count": 10,
   "metadata": {},
   "outputs": [],
   "source": [
    "X_train = scaler.fit_transform(X_train)\n",
    "X_test = scaler.transform(X_test)"
   ]
  },
  {
   "cell_type": "code",
   "execution_count": 11,
   "metadata": {},
   "outputs": [],
   "source": [
    "# Build the model\n",
    "model = nn.Linear(D, 1)"
   ]
  },
  {
   "cell_type": "code",
   "execution_count": 12,
   "metadata": {},
   "outputs": [],
   "source": [
    "# Loss and Optimizer\n",
    "criterion = nn.BCEWithLogitsLoss()\n",
    "optimizer = torch.optim.Adam(model.parameters())"
   ]
  },
  {
   "cell_type": "code",
   "execution_count": 13,
   "metadata": {},
   "outputs": [],
   "source": [
    "# Convert data into Torch Tensors\n",
    "X_train = torch.from_numpy(X_train.astype(np.float32))\n",
    "X_test = torch.from_numpy(X_test.astype(np.float32))\n",
    "y_train = torch.from_numpy(y_train.astype(np.float32).reshape(-1, 1))\n",
    "y_test = torch.from_numpy(y_test.astype(np.float32).reshape(-1, 1))"
   ]
  },
  {
   "cell_type": "code",
   "execution_count": 14,
   "metadata": {},
   "outputs": [
    {
     "name": "stdout",
     "output_type": "stream",
     "text": [
      "Epoch 50/1000, Train Loss: 0.3733, Test Loss: 0.3900\n",
      "Epoch 100/1000, Train Loss: 0.2851, Test Loss: 0.3044\n",
      "Epoch 150/1000, Train Loss: 0.2348, Test Loss: 0.2556\n",
      "Epoch 200/1000, Train Loss: 0.2021, Test Loss: 0.2232\n",
      "Epoch 250/1000, Train Loss: 0.1791, Test Loss: 0.2000\n",
      "Epoch 300/1000, Train Loss: 0.1622, Test Loss: 0.1824\n",
      "Epoch 350/1000, Train Loss: 0.1492, Test Loss: 0.1686\n",
      "Epoch 400/1000, Train Loss: 0.1390, Test Loss: 0.1575\n",
      "Epoch 450/1000, Train Loss: 0.1307, Test Loss: 0.1484\n",
      "Epoch 500/1000, Train Loss: 0.1239, Test Loss: 0.1408\n",
      "Epoch 550/1000, Train Loss: 0.1182, Test Loss: 0.1342\n",
      "Epoch 600/1000, Train Loss: 0.1133, Test Loss: 0.1286\n",
      "Epoch 650/1000, Train Loss: 0.1091, Test Loss: 0.1238\n",
      "Epoch 700/1000, Train Loss: 0.1054, Test Loss: 0.1195\n",
      "Epoch 750/1000, Train Loss: 0.1022, Test Loss: 0.1157\n",
      "Epoch 800/1000, Train Loss: 0.0993, Test Loss: 0.1124\n",
      "Epoch 850/1000, Train Loss: 0.0967, Test Loss: 0.1094\n",
      "Epoch 900/1000, Train Loss: 0.0944, Test Loss: 0.1067\n",
      "Epoch 950/1000, Train Loss: 0.0922, Test Loss: 0.1043\n",
      "Epoch 1000/1000, Train Loss: 0.0903, Test Loss: 0.1022\n"
     ]
    }
   ],
   "source": [
    "# TRAIN THE MODEL\n",
    "n_epochs = 1000\n",
    "train_losses = np.zeros(n_epochs)\n",
    "test_losses = np.zeros(n_epochs)\n",
    "\n",
    "for i in range(n_epochs):\n",
    "    # zero the parameter gradients\n",
    "    optimizer.zero_grad()\n",
    "    \n",
    "    # forward pass\n",
    "    outputs = model(X_train)\n",
    "    loss = criterion(outputs, y_train)\n",
    "    \n",
    "    # Backward and optimize\n",
    "    loss.backward()\n",
    "    optimizer.step()\n",
    "    \n",
    "    # GET TEST LOSS\n",
    "    output_test = model(X_test)\n",
    "    loss_test = criterion(output_test, y_test)\n",
    "    \n",
    "    # save\n",
    "    train_losses[i] = loss.item()\n",
    "    test_losses[i] = loss_test.item()\n",
    "    \n",
    "    if (i+1) % 50 == 0:\n",
    "        print(f'Epoch {i+1}/{n_epochs}, Train Loss: {loss.item():.4f}, Test Loss: {loss_test.item():.4f}')"
   ]
  },
  {
   "cell_type": "code",
   "execution_count": 15,
   "metadata": {},
   "outputs": [
    {
     "data": {
      "text/plain": [
       "<matplotlib.legend.Legend at 0x20fc4c40a30>"
      ]
     },
     "execution_count": 15,
     "metadata": {},
     "output_type": "execute_result"
    },
    {
     "data": {
      "image/png": "[encoded data removed]",
      "text/plain": [
       "<Figure size 432x288 with 1 Axes>"
      ]
     },
     "metadata": {},
     "output_type": "display_data"
    }
   ],
   "source": [
    "plt.plot(train_losses, label='Train Loss')\n",
    "plt.plot(test_losses, label='Test Loss')\n",
    "plt.legend()"
   ]
  },
  {
   "cell_type": "code",
   "execution_count": 16,
   "metadata": {},
   "outputs": [
    {
     "name": "stdout",
     "output_type": "stream",
     "text": [
      "Training accuracy: 6.0367%, Test accuracy: 7.4468%\n"
     ]
    }
   ],
   "source": [
    "# Checkick accuracy\n",
    "with torch.no_grad():\n",
    "    p_train = model(X_train)\n",
    "    p_train = np.round(p_train.numpy())\n",
    "    train_acc = np.mean(y_train.numpy() == p_train) * 100.0\n",
    "    \n",
    "    p_test = model(X_test)\n",
    "    p_test = np.round(p_test.numpy())\n",
    "    test_acc = np.mean(y_test.numpy() == p_test) * 100.0\n",
    "print(f'Training accuracy: {train_acc:.4f}%, Test accuracy: {test_acc:.4f}%')"
   ]
  },
  {
   "cell_type": "code",
   "execution_count": null,
   "metadata": {},
   "outputs": [],
   "source": []
  }
 ],
 "metadata": {
  "kernelspec": {
   "display_name": "Python 3",
   "language": "python",
   "name": "python3"
  },
  "language_info": {
   "codemirror_mode": {
    "name": "ipython",
    "version": 3
   },
   "file_extension": ".py",
   "mimetype": "text/x-python",
   "name": "python",
   "nbconvert_exporter": "python",
   "pygments_lexer": "ipython3",
   "version": "3.8.5"
  }
 },
 "nbformat": 4,
 "nbformat_minor": 4
}

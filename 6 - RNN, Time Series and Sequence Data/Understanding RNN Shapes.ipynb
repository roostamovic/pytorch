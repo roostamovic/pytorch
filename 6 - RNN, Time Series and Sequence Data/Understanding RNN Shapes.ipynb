{
 "cells": [
  {
   "cell_type": "code",
   "execution_count": 1,
   "metadata": {},
   "outputs": [],
   "source": [
    "import torch\n",
    "import torch.nn as nn\n",
    "import numpy as np\n",
    "import seaborn as sns\n",
    "import matplotlib.pyplot as plt\n",
    "%matplotlib inline\n",
    "sns.set_style('whitegrid')"
   ]
  },
  {
   "cell_type": "code",
   "execution_count": 2,
   "metadata": {},
   "outputs": [],
   "source": [
    "# N = number of samples\n",
    "# T = sequence lenght\n",
    "# D = number of input features\n",
    "# M = number of hidden units\n",
    "# K = number of output units"
   ]
  },
  {
   "cell_type": "code",
   "execution_count": 3,
   "metadata": {},
   "outputs": [],
   "source": [
    "# Make some data\n",
    "N = 1\n",
    "T = 10\n",
    "D = 3\n",
    "M = 5\n",
    "K = 2\n",
    "X = np.random.randn(N, T, D)"
   ]
  },
  {
   "cell_type": "code",
   "execution_count": 10,
   "metadata": {},
   "outputs": [],
   "source": [
    "# Make a RNN\n",
    "# DEFINE SimpleRNN\n",
    "class SimpleRNN(nn.Module):\n",
    "    def __init__(self, n_inputs, n_hidden, n_outputs):\n",
    "        super(SimpleRNN, self).__init__()\n",
    "        self.D = n_inputs\n",
    "        self.M = n_hidden\n",
    "        self.K = n_outputs\n",
    "        \n",
    "        # note: batch_first=True\n",
    "        # applies the convention that our data will be of shape: (num_samples, sequence_length, num_features)\n",
    "        # rather than: (sequence_length, num_samples, num_features)\n",
    "        self.rnn = nn.RNN(\n",
    "            input_size = self.D,\n",
    "            hidden_size = self.M, \n",
    "            nonlinearity = 'tanh',\n",
    "            batch_first = True)\n",
    "        self.fc = nn.Linear(self.M, self.K)\n",
    "            \n",
    "    def forward(self, X):\n",
    "        # initial hidden states\n",
    "        h0 = torch.zeros(1, X.size(0), self.M)\n",
    "        \n",
    "        # get RNN unit output\n",
    "        # out is of size (N, T, M)\n",
    "        # 2nd return value is hidden states at each hidden layer, we don't need those now\n",
    "        out, _ = self.rnn(X, h0)\n",
    "        \n",
    "        # we only want h(T) at the final time step\n",
    "        # N x M => N x K\n",
    "        out = self.fc(out)\n",
    "        return out"
   ]
  },
  {
   "cell_type": "code",
   "execution_count": 11,
   "metadata": {},
   "outputs": [],
   "source": [
    "# Instantiate the model\n",
    "model = SimpleRNN(n_inputs=D, n_hidden=M,  n_outputs=K)"
   ]
  },
  {
   "cell_type": "code",
   "execution_count": 12,
   "metadata": {},
   "outputs": [
    {
     "data": {
      "text/plain": [
       "tensor([[[-0.6770,  0.1178],\n",
       "         [-0.5568,  0.1199],\n",
       "         [-0.7185,  0.1907],\n",
       "         [-0.3239, -0.0437],\n",
       "         [-0.5515,  0.3637],\n",
       "         [-0.7874,  0.1112],\n",
       "         [-0.5464,  0.0395],\n",
       "         [-0.4709,  0.0393],\n",
       "         [-0.5123,  0.3385],\n",
       "         [-0.6788,  0.2819]]], grad_fn=<AddBackward0>)"
      ]
     },
     "execution_count": 12,
     "metadata": {},
     "output_type": "execute_result"
    }
   ],
   "source": [
    "inputs = torch.from_numpy(X.astype(np.float32))\n",
    "out = model(inputs)\n",
    "out"
   ]
  },
  {
   "cell_type": "code",
   "execution_count": 13,
   "metadata": {},
   "outputs": [
    {
     "data": {
      "text/plain": [
       "torch.Size([1, 10, 2])"
      ]
     },
     "execution_count": 13,
     "metadata": {},
     "output_type": "execute_result"
    }
   ],
   "source": [
    "out.shape"
   ]
  },
  {
   "cell_type": "code",
   "execution_count": 14,
   "metadata": {},
   "outputs": [],
   "source": [
    "# save for later\n",
    "Yhats_batch = out.detach().numpy()"
   ]
  },
  {
   "cell_type": "code",
   "execution_count": 41,
   "metadata": {},
   "outputs": [],
   "source": [
    "W_xh, W_hh, b_xh, b_hh = model.rnn.parameters()"
   ]
  },
  {
   "cell_type": "code",
   "execution_count": 42,
   "metadata": {},
   "outputs": [
    {
     "data": {
      "text/plain": [
       "torch.Size([5, 3])"
      ]
     },
     "execution_count": 42,
     "metadata": {},
     "output_type": "execute_result"
    }
   ],
   "source": [
    "W_xh.shape"
   ]
  },
  {
   "cell_type": "code",
   "execution_count": 43,
   "metadata": {},
   "outputs": [
    {
     "data": {
      "text/plain": [
       "Parameter containing:\n",
       "tensor([[-0.2837,  0.0281, -0.0205],\n",
       "        [ 0.1065,  0.2600, -0.2244],\n",
       "        [-0.4189,  0.4109, -0.3886],\n",
       "        [ 0.1018, -0.3114,  0.0292],\n",
       "        [-0.2252,  0.3979, -0.4233]], requires_grad=True)"
      ]
     },
     "execution_count": 43,
     "metadata": {},
     "output_type": "execute_result"
    }
   ],
   "source": [
    "W_xh"
   ]
  },
  {
   "cell_type": "code",
   "execution_count": 44,
   "metadata": {},
   "outputs": [],
   "source": [
    "W_xh = W_xh.detach().numpy()\n",
    "W_hh = W_hh.detach().numpy()\n",
    "b_xh = b_xh.detach().numpy()\n",
    "b_hh = b_hh.detach().numpy()"
   ]
  },
  {
   "cell_type": "code",
   "execution_count": null,
   "metadata": {},
   "outputs": [],
   "source": []
  },
  {
   "cell_type": "code",
   "execution_count": 45,
   "metadata": {},
   "outputs": [],
   "source": [
    "Wo, bo = model.fc.parameters()"
   ]
  },
  {
   "cell_type": "code",
   "execution_count": 46,
   "metadata": {},
   "outputs": [],
   "source": [
    "Wo = Wo.data.numpy()\n",
    "bo = bo.data.numpy()"
   ]
  },
  {
   "cell_type": "code",
   "execution_count": 47,
   "metadata": {},
   "outputs": [
    {
     "data": {
      "text/plain": [
       "((2, 5), (2,))"
      ]
     },
     "execution_count": 47,
     "metadata": {},
     "output_type": "execute_result"
    }
   ],
   "source": [
    "Wo.shape, bo.shape"
   ]
  },
  {
   "cell_type": "code",
   "execution_count": 48,
   "metadata": {},
   "outputs": [],
   "source": [
    "h_last = np.zeros(M)\n",
    "x = X[0]\n",
    "Yhats = np.zeros((T, K))"
   ]
  },
  {
   "cell_type": "code",
   "execution_count": 49,
   "metadata": {},
   "outputs": [
    {
     "name": "stdout",
     "output_type": "stream",
     "text": [
      "[[-0.25046709  0.11572695]\n",
      " [-0.13028103  0.11788034]\n",
      " [-0.29200551  0.18869281]\n",
      " [ 0.10264479 -0.04577346]\n",
      " [-0.12499333  0.36167691]\n",
      " [-0.36083769  0.10918696]\n",
      " [-0.11992737  0.037405  ]\n",
      " [-0.04438106  0.03722227]\n",
      " [-0.0858161   0.33643836]\n",
      " [-0.25231524  0.27986977]]\n"
     ]
    }
   ],
   "source": [
    "for t in range(T):\n",
    "    h = np.tanh(x[t].dot(W_xh.T) + b_xh + h_last.dot(W_hh.T) + b_hh)\n",
    "    y = h.dot(Wo.T)\n",
    "    Yhats[t] = y\n",
    "    \n",
    "    h_last = h\n",
    "    \n",
    "print(Yhats)"
   ]
  },
  {
   "cell_type": "code",
   "execution_count": 50,
   "metadata": {},
   "outputs": [
    {
     "data": {
      "text/plain": [
       "False"
      ]
     },
     "execution_count": 50,
     "metadata": {},
     "output_type": "execute_result"
    }
   ],
   "source": [
    "# Check\n",
    "np.allclose(Yhats, Yhats_batch)"
   ]
  },
  {
   "cell_type": "code",
   "execution_count": null,
   "metadata": {},
   "outputs": [],
   "source": []
  }
 ],
 "metadata": {
  "kernelspec": {
   "display_name": "Python 3",
   "language": "python",
   "name": "python3"
  },
  "language_info": {
   "codemirror_mode": {
    "name": "ipython",
    "version": 3
   },
   "file_extension": ".py",
   "mimetype": "text/x-python",
   "name": "python",
   "nbconvert_exporter": "python",
   "pygments_lexer": "ipython3",
   "version": "3.8.5"
  }
 },
 "nbformat": 4,
 "nbformat_minor": 4
}
